{
 "cells": [
  {
   "cell_type": "code",
   "execution_count": 102,
   "metadata": {},
   "outputs": [],
   "source": [
    "from bs4 import BeautifulSoup\n",
    "\n",
    "book_root = BeautifulSoup(open('html/coloring_book.html'), 'lxml')\n",
    "church_root = BeautifulSoup(open('html/times_square.html'), 'lxml')\n",
    "finra_app = BeautifulSoup(open('html/finra7.html'), 'lxml')\n",
    "drilling_app = BeautifulSoup(open('html/drilling.html'), 'lxml')\n",
    "flute_app = BeautifulSoup(open('html/flute.html'), 'lxml')"
   ]
  },
  {
   "cell_type": "code",
   "execution_count": 106,
   "metadata": {},
   "outputs": [
    {
     "data": {
      "text/plain": [
       "'Kids Coloring Book - Learning Fun Educational Book App!'"
      ]
     },
     "execution_count": 106,
     "metadata": {},
     "output_type": "execute_result"
    }
   ],
   "source": [
    "parsed_coloring_book.find('h1').text.strip().split('\\n')[0]"
   ]
  },
  {
   "cell_type": "code",
   "execution_count": 107,
   "metadata": {},
   "outputs": [
    {
     "data": {
      "text/plain": [
       "'Times Square Church'"
      ]
     },
     "execution_count": 107,
     "metadata": {},
     "output_type": "execute_result"
    }
   ],
   "source": [
    "parsed_church.find('h1').text.strip().split('\\n')[0]"
   ]
  },
  {
   "cell_type": "code",
   "execution_count": 108,
   "metadata": {},
   "outputs": [
    {
     "data": {
      "text/plain": [
       "'How to Play Flute Complete'"
      ]
     },
     "execution_count": 108,
     "metadata": {},
     "output_type": "execute_result"
    }
   ],
   "source": [
    "flute_app.find('h1').text.strip().split('\\n')[0]"
   ]
  },
  {
   "cell_type": "code",
   "execution_count": 109,
   "metadata": {},
   "outputs": [
    {
     "data": {
      "text/plain": [
       "'Series 7 Smart Prep 2016 - FINRA GS Test Preparation'"
      ]
     },
     "execution_count": 109,
     "metadata": {},
     "output_type": "execute_result"
    }
   ],
   "source": [
    "finra_app.find('h1').text.strip().split('\\n')[0]"
   ]
  },
  {
   "cell_type": "code",
   "execution_count": 110,
   "metadata": {},
   "outputs": [
    {
     "data": {
      "text/plain": [
       "'Drilling, Milling, Turning'"
      ]
     },
     "execution_count": 110,
     "metadata": {},
     "output_type": "execute_result"
    }
   ],
   "source": [
    "drilling_app.find('h1').text.strip().split('\\n')[0]"
   ]
  },
  {
   "cell_type": "code",
   "execution_count": 133,
   "metadata": {},
   "outputs": [
    {
     "data": {
      "text/plain": [
       "'4.8'"
      ]
     },
     "execution_count": 133,
     "metadata": {},
     "output_type": "execute_result"
    }
   ],
   "source": [
    "# Find The App Rating\n",
    "parsed_church.find('span', class_='we-customer-ratings__averages__display').get_text()\n"
   ]
  },
  {
   "cell_type": "code",
   "execution_count": null,
   "metadata": {},
   "outputs": [],
   "source": [
    "# App Title\n",
    "# find('h1').text.strip().split('\\n')[0]\n",
    "\n",
    "# App Rating\n",
    "# .find('span', class_='we-customer-ratings__averages__display').get_text()\n",
    "\n",
    "# Description\n",
    "# .find('h2', text='Description').parent.find('p').get_text()"
   ]
  },
  {
   "cell_type": "code",
   "execution_count": 146,
   "metadata": {},
   "outputs": [
    {
     "data": {
      "text/plain": [
       "\"Welcome to the official Times Square Church App for mobile devices.Our goal in creating this app is to allow you to stream and download Times Square Church sermons, watch the weekly webcasts and access the best TSC content such as Pastor Carter Conlon's radio devotionals and sermon newsletters, as well as TSC Music songs, podcasts, devotionals, and tutorials -- quickly and easily from your mobile device.The best part is you will be able to share your favorite Times Square Church content with your friends via Twitter, Facebook, or email.For more information about Times Square Church, please visit our website at http://www.tsc.nyc/The Times Square Church app was developed with the Subsplash App Platform.\""
      ]
     },
     "execution_count": 146,
     "metadata": {},
     "output_type": "execute_result"
    }
   ],
   "source": [
    "#drilling_app.find('h2', text='Description').parent.find('p')\n",
    "parsed_church.find('h2', text='Description').parent.find('p').get_text()"
   ]
  },
  {
   "cell_type": "code",
   "execution_count": null,
   "metadata": {},
   "outputs": [],
   "source": []
  }
 ],
 "metadata": {
  "kernelspec": {
   "display_name": "Python 3",
   "language": "python",
   "name": "python3"
  },
  "language_info": {
   "codemirror_mode": {
    "name": "ipython",
    "version": 3
   },
   "file_extension": ".py",
   "mimetype": "text/x-python",
   "name": "python",
   "nbconvert_exporter": "python",
   "pygments_lexer": "ipython3",
   "version": "3.7.1"
  },
  "toc": {
   "base_numbering": 1,
   "nav_menu": {},
   "number_sections": true,
   "sideBar": true,
   "skip_h1_title": false,
   "title_cell": "Table of Contents",
   "title_sidebar": "Contents",
   "toc_cell": false,
   "toc_position": {},
   "toc_section_display": true,
   "toc_window_display": false
  },
  "varInspector": {
   "cols": {
    "lenName": 16,
    "lenType": 16,
    "lenVar": 40
   },
   "kernels_config": {
    "python": {
     "delete_cmd_postfix": "",
     "delete_cmd_prefix": "del ",
     "library": "var_list.py",
     "varRefreshCmd": "print(var_dic_list())"
    },
    "r": {
     "delete_cmd_postfix": ") ",
     "delete_cmd_prefix": "rm(",
     "library": "var_list.r",
     "varRefreshCmd": "cat(var_dic_list()) "
    }
   },
   "types_to_exclude": [
    "module",
    "function",
    "builtin_function_or_method",
    "instance",
    "_Feature"
   ],
   "window_display": false
  }
 },
 "nbformat": 4,
 "nbformat_minor": 2
}
