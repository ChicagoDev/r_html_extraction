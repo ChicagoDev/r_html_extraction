{
 "cells": [
  {
   "cell_type": "code",
   "execution_count": 102,
   "metadata": {},
   "outputs": [],
   "source": [
    "from bs4 import BeautifulSoup\n",
    "\n",
    "book_root = BeautifulSoup(open('html/coloring_book.html'), 'lxml')\n",
    "church_root = BeautifulSoup(open('html/times_square.html'), 'lxml')\n",
    "finra_app = BeautifulSoup(open('html/finra7.html'), 'lxml')\n",
    "drilling_app = BeautifulSoup(open('html/drilling.html'), 'lxml')\n",
    "flute_app = BeautifulSoup(open('html/flute.html'), 'lxml')"
   ]
  },
  {
   "cell_type": "code",
   "execution_count": 106,
   "metadata": {},
   "outputs": [
    {
     "data": {
      "text/plain": [
       "'Kids Coloring Book - Learning Fun Educational Book App!'"
      ]
     },
     "execution_count": 106,
     "metadata": {},
     "output_type": "execute_result"
    }
   ],
   "source": [
    "parsed_coloring_book.find('h1').text.strip().split('\\n')[0]"
   ]
  },
  {
   "cell_type": "code",
   "execution_count": 107,
   "metadata": {},
   "outputs": [
    {
     "data": {
      "text/plain": [
       "'Times Square Church'"
      ]
     },
     "execution_count": 107,
     "metadata": {},
     "output_type": "execute_result"
    }
   ],
   "source": [
    "parsed_church.find('h1').text.strip().split('\\n')[0]"
   ]
  },
  {
   "cell_type": "code",
   "execution_count": 108,
   "metadata": {},
   "outputs": [
    {
     "data": {
      "text/plain": [
       "'How to Play Flute Complete'"
      ]
     },
     "execution_count": 108,
     "metadata": {},
     "output_type": "execute_result"
    }
   ],
   "source": [
    "flute_app.find('h1').text.strip().split('\\n')[0]"
   ]
  },
  {
   "cell_type": "code",
   "execution_count": 109,
   "metadata": {},
   "outputs": [
    {
     "data": {
      "text/plain": [
       "'Series 7 Smart Prep 2016 - FINRA GS Test Preparation'"
      ]
     },
     "execution_count": 109,
     "metadata": {},
     "output_type": "execute_result"
    }
   ],
   "source": [
    "finra_app.find('h1').text.strip().split('\\n')[0]"
   ]
  },
  {
   "cell_type": "code",
   "execution_count": 110,
   "metadata": {},
   "outputs": [
    {
     "data": {
      "text/plain": [
       "'Drilling, Milling, Turning'"
      ]
     },
     "execution_count": 110,
     "metadata": {},
     "output_type": "execute_result"
    }
   ],
   "source": [
    "drilling_app.find('h1').text.strip().split('\\n')[0]"
   ]
  },
  {
   "cell_type": "code",
   "execution_count": 133,
   "metadata": {},
   "outputs": [
    {
     "data": {
      "text/plain": [
       "'4.8'"
      ]
     },
     "execution_count": 133,
     "metadata": {},
     "output_type": "execute_result"
    }
   ],
   "source": [
    "# Find The App Rating\n",
    "parsed_church.find('span', class_='we-customer-ratings__averages__display').get_text()\n"
   ]
  },
  {
   "cell_type": "code",
   "execution_count": null,
   "metadata": {},
   "outputs": [],
   "source": [
    "# App Title\n",
    "# find('h1').text.strip().split('\\n')[0]\n",
    "\n",
    "# App Rating\n",
    "# .find('span', class_='we-customer-ratings__averages__display').get_text()\n",
    "\n",
    "# Description\n",
    "# .find('h2', text='Description').parent.find('p').get_text()\n",
    "\n",
    "# Privacy Policy\n",
    "# .find('a', text='Privacy Policy')['href']\n",
    "\n",
    "# Information Field Data\n",
    "# information_dl = .find('dl', attrs={'class': 'information-list information-list--app medium-columns'})\n",
    "# info_fields = [ _.get_text() for _ in information_dl.find_all('dt')]\n",
    "# info_values = [_.get_text().strip() for _ in information_dl.find_all('dd')]\n",
    "\n",
    "# Version History: Url may be tied up within some JavaScript"
   ]
  },
  {
   "cell_type": "code",
   "execution_count": 146,
   "metadata": {},
   "outputs": [
    {
     "data": {
      "text/plain": [
       "\"Welcome to the official Times Square Church App for mobile devices.Our goal in creating this app is to allow you to stream and download Times Square Church sermons, watch the weekly webcasts and access the best TSC content such as Pastor Carter Conlon's radio devotionals and sermon newsletters, as well as TSC Music songs, podcasts, devotionals, and tutorials -- quickly and easily from your mobile device.The best part is you will be able to share your favorite Times Square Church content with your friends via Twitter, Facebook, or email.For more information about Times Square Church, please visit our website at http://www.tsc.nyc/The Times Square Church app was developed with the Subsplash App Platform.\""
      ]
     },
     "execution_count": 146,
     "metadata": {},
     "output_type": "execute_result"
    }
   ],
   "source": [
    "#drilling_app.find('h2', text='Description').parent.find('p')\n",
    "parsed_church.find('h2', text='Description').parent.find('p').get_text()"
   ]
  },
  {
   "cell_type": "code",
   "execution_count": 152,
   "metadata": {},
   "outputs": [
    {
     "data": {
      "text/plain": [
       "'http://www.subsplash.com/legal/privacy'"
      ]
     },
     "execution_count": 152,
     "metadata": {},
     "output_type": "execute_result"
    }
   ],
   "source": [
    "parsed_church.find('a', text='Privacy Policy')['href']"
   ]
  },
  {
   "cell_type": "code",
   "execution_count": 163,
   "metadata": {},
   "outputs": [],
   "source": [
    "\"\"\"\n",
    "Retrieving Information Data\n",
    "\n",
    "Go to h2 Information tag. Traverse to parent. Then there is a <dl> list that contains al <dd> and <dts> That essentially\n",
    "contain the keys and values for the Information section. I say put into a dictionary, or feed right into a dataframe\n",
    "as col names and row vals. \n",
    "\"\"\"\n",
    "\n",
    "information_dl = parsed_church.find('dl', attrs={'class': 'information-list information-list--app medium-columns'})"
   ]
  },
  {
   "cell_type": "code",
   "execution_count": 184,
   "metadata": {},
   "outputs": [
    {
     "name": "stdout",
     "output_type": "stream",
     "text": [
      "('Seller', 'Times Square Church, Inc.')\n",
      "('Size', '40.1 MB')\n",
      "('Category', 'Education')\n",
      "('Compatibility', 'Requires iOS 10.0 or later. Compatible with iPhone, iPad, and iPod touch. Apple TV.')\n",
      "('Languages', 'English, Chinese, French, Portuguese, Spanish')\n",
      "('Age Rating', 'Rated 4+')\n",
      "('Copyright', 'App: © 2019 Subsplash, Content: © 2019 Times Square Church')\n",
      "('Price', 'Free')\n"
     ]
    }
   ],
   "source": [
    "information_dl = parsed_church.find('dl', attrs={'class': 'information-list information-list--app medium-columns'})\n",
    "info_fields = [ _.get_text() for _ in information_dl.find_all('dt')]\n",
    "info_values = [_.get_text().strip() for _ in information_dl.find_all('dd')]\n",
    "\n",
    "\n",
    "for field in zip(info_fields, info_values):\n",
    "    print(field)\n",
    "#for child in information_dl:\n",
    "#    term = ''\n",
    "#    description = ''\n",
    "#    \n",
    "#    print(child.find_all('dt'))"
   ]
  },
  {
   "cell_type": "code",
   "execution_count": 233,
   "metadata": {},
   "outputs": [
    {
     "data": {
      "text/plain": [
       "{'Seller': 'Times Square Church, Inc.',\n",
       " 'Size': '40.1 MB',\n",
       " 'Category': 'Education',\n",
       " 'Compatibility': 'Requires iOS 10.0 or later. Compatible with iPhone, iPad, and iPod touch. Apple TV.',\n",
       " 'Languages': 'English, Chinese, French, Portuguese, Spanish',\n",
       " 'Age Rating': 'Rated 4+',\n",
       " 'Copyright': 'App: © 2019 Subsplash, Content: © 2019 Times Square Church',\n",
       " 'Price': 'Free'}"
      ]
     },
     "execution_count": 233,
     "metadata": {},
     "output_type": "execute_result"
    }
   ],
   "source": [
    "dict(zip(info_fields, info_values))"
   ]
  },
  {
   "cell_type": "code",
   "execution_count": 216,
   "metadata": {},
   "outputs": [
    {
     "name": "stdout",
     "output_type": "stream",
     "text": [
      "['89', '7', '0', '4', '0']\n"
     ]
    },
    {
     "data": {
      "text/plain": [
       "<zip at 0x11a202248>"
      ]
     },
     "execution_count": 216,
     "metadata": {},
     "output_type": "execute_result"
    }
   ],
   "source": [
    "\"\"\"\n",
    "Obtaining the rating histogram info. \n",
    "\"\"\"\n",
    "import re\n",
    "num_re = re.compile('[0-9]+')\n",
    "stars = [5, 4, 3, 2, 1]\n",
    "\n",
    "ratings_bar_graph = parsed_church.find('figure', {'class': 'we-star-bar-graph'})\n",
    "ratings_bars = ratings_bar_graph.find_all('div', {'class': 'we-star-bar-graph__bar__foreground-bar'})\n",
    "\n",
    "bar_attributes = [_.attrs for _ in ratings_bars]\n",
    "\n",
    "star_rating_percentages = [re.search(num_re, _['style']).group(0) for _ in bar_attributes]\n",
    "\n",
    "print(star_rating_percentages)\n",
    "zip(stars, star_rating_percentages)"
   ]
  },
  {
   "cell_type": "code",
   "execution_count": 211,
   "metadata": {},
   "outputs": [
    {
     "data": {
      "text/plain": [
       "'89'"
      ]
     },
     "execution_count": 211,
     "metadata": {},
     "output_type": "execute_result"
    }
   ],
   "source": [
    "re.search(re.compile('[0-9]+'), 'width: 89%;').group(0)"
   ]
  },
  {
   "cell_type": "code",
   "execution_count": 227,
   "metadata": {},
   "outputs": [
    {
     "data": {
      "text/plain": [
       "['Emmyev', 'Pjj696955202', 'Ahber58']"
      ]
     },
     "execution_count": 227,
     "metadata": {},
     "output_type": "execute_result"
    }
   ],
   "source": [
    "users = [_.get_text().strip() for _ in finra_app.find_all('span', {'class': 'we-customer-review__user'})]\n",
    "users"
   ]
  },
  {
   "cell_type": "code",
   "execution_count": 228,
   "metadata": {},
   "outputs": [],
   "source": [
    "review_header = [_.get_text() for _ in finra_app.find_all('h3', {'class': 'we-truncate we-truncate--single-line ember-view we-customer-review__title'})]"
   ]
  },
  {
   "cell_type": "code",
   "execution_count": 225,
   "metadata": {},
   "outputs": [
    {
     "data": {
      "text/plain": [
       "['This is a great app to study offline. Great question and explanations to help in learning. I recommend!',\n",
       " 'Not the sole way to study, but a good supplement in between',\n",
       " \"This is a very limited version of the website material. There is no reason to get this app.  I was hoping for an easier way to access the two 50 question exams on the website.m this isn't even close.\"]"
      ]
     },
     "execution_count": 225,
     "metadata": {},
     "output_type": "execute_result"
    }
   ],
   "source": [
    "reviews = [_.p.get_text() for _ in finra_app.find_all('blockquote', {'class': 'we-truncate we-truncate--multi-line we-truncate--interactive ember-view we-customer-review__body'})]\n",
    "reviews"
   ]
  },
  {
   "cell_type": "code",
   "execution_count": 232,
   "metadata": {},
   "outputs": [
    {
     "data": {
      "text/plain": [
       "['5', '5', '1']"
      ]
     },
     "execution_count": 232,
     "metadata": {},
     "output_type": "execute_result"
    }
   ],
   "source": [
    "featured_review_stars = finra_app.find_all('figure', {'class': 'we-star-rating ember-view we-customer-review__rating we-star-rating--large'})\n",
    "[_.attrs['aria-label'][0] for _ in featured_review_stars]"
   ]
  },
  {
   "cell_type": "code",
   "execution_count": null,
   "metadata": {},
   "outputs": [],
   "source": []
  }
 ],
 "metadata": {
  "kernelspec": {
   "display_name": "Python 3",
   "language": "python",
   "name": "python3"
  },
  "language_info": {
   "codemirror_mode": {
    "name": "ipython",
    "version": 3
   },
   "file_extension": ".py",
   "mimetype": "text/x-python",
   "name": "python",
   "nbconvert_exporter": "python",
   "pygments_lexer": "ipython3",
   "version": "3.7.1"
  },
  "toc": {
   "base_numbering": 1,
   "nav_menu": {},
   "number_sections": true,
   "sideBar": true,
   "skip_h1_title": false,
   "title_cell": "Table of Contents",
   "title_sidebar": "Contents",
   "toc_cell": false,
   "toc_position": {},
   "toc_section_display": true,
   "toc_window_display": false
  },
  "varInspector": {
   "cols": {
    "lenName": 16,
    "lenType": 16,
    "lenVar": 40
   },
   "kernels_config": {
    "python": {
     "delete_cmd_postfix": "",
     "delete_cmd_prefix": "del ",
     "library": "var_list.py",
     "varRefreshCmd": "print(var_dic_list())"
    },
    "r": {
     "delete_cmd_postfix": ") ",
     "delete_cmd_prefix": "rm(",
     "library": "var_list.r",
     "varRefreshCmd": "cat(var_dic_list()) "
    }
   },
   "types_to_exclude": [
    "module",
    "function",
    "builtin_function_or_method",
    "instance",
    "_Feature"
   ],
   "window_display": false
  }
 },
 "nbformat": 4,
 "nbformat_minor": 2
}
