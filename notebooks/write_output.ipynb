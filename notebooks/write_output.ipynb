{
 "cells": [
  {
   "cell_type": "code",
   "execution_count": 1,
   "metadata": {},
   "outputs": [],
   "source": [
    "from appstore_dom_selectors import *\n",
    "from bs4 import BeautifulSoup\n",
    "import os, sys\n",
    "import pprint\n",
    "import pyreadr"
   ]
  },
  {
   "cell_type": "code",
   "execution_count": 2,
   "metadata": {},
   "outputs": [],
   "source": [
    "## Generate App Soup\n",
    "app_rds = pyreadr.read_r('rds_input/coloring_book.rds')\n",
    "app_df = app_rds[None]\n",
    "app_html = app_df.iloc[0,0]\n",
    "app_soup = BeautifulSoup(app_html, 'lxml')"
   ]
  },
  {
   "cell_type": "code",
   "execution_count": 3,
   "metadata": {},
   "outputs": [
    {
     "data": {
      "text/plain": [
       "{'app_name': 'Kids Coloring Book - Learning Fun Educational Book App!',\n",
       " 'app_rating': nan,\n",
       " 'app_description': 'Get all creative with Kids Coloring Fun!Unleash your kid creativity, have some coloring fun with the whole family and share your work with relatives! It is also a great app for grandparents, color together with your grandchildren, share the work with mom or dad when they are away from home.',\n",
       " 'privacy_policy': 'http://stockpricestore.com/privacy-policy',\n",
       " 'percent_5_star': nan,\n",
       " 'percent_4_star': nan,\n",
       " 'percent_3_star': nan,\n",
       " 'percent_2_star': nan,\n",
       " 'Seller': 'Teerawat Chotpongsathonkul',\n",
       " 'Size': '46.8 MB',\n",
       " 'Category': 'Games',\n",
       " 'Compatibility': 'Requires iOS 7 or later. Compatible with iPhone, iPad, and iPod touch.',\n",
       " 'Languages': 'English',\n",
       " 'Age Rating': 'Rated 4+',\n",
       " 'Copyright': '© Melanie APP',\n",
       " 'Price': 'Free'}"
      ]
     },
     "execution_count": 3,
     "metadata": {},
     "output_type": "execute_result"
    }
   ],
   "source": [
    "## This is the method I created to get all the data. \n",
    "## If something needs to be altered (data-wise), it should be changed in this method\n",
    "## This Notebook is about taking the output from this method and storing it as a TSV\n",
    "get_app_data(app_soup)"
   ]
  },
  {
   "cell_type": "code",
   "execution_count": 4,
   "metadata": {
    "scrolled": true
   },
   "outputs": [
    {
     "name": "stdout",
     "output_type": "stream",
     "text": [
      "{'Age Rating': 'Rated 4+',\n",
      " 'Category': 'Games',\n",
      " 'Compatibility': 'Requires iOS 7 or later. Compatible with iPhone, iPad, and '\n",
      "                  'iPod touch.',\n",
      " 'Copyright': '© Melanie APP',\n",
      " 'Languages': 'English',\n",
      " 'Price': 'Free',\n",
      " 'Seller': 'Teerawat Chotpongsathonkul',\n",
      " 'Size': '46.8 MB',\n",
      " 'app_description': 'Get all creative with Kids Coloring Fun!Unleash your kid '\n",
      "                    'creativity, have some coloring fun with the whole family '\n",
      "                    'and share your work with relatives! It is also a great '\n",
      "                    'app for grandparents, color together with your '\n",
      "                    'grandchildren, share the work with mom or dad when they '\n",
      "                    'are away from home.',\n",
      " 'app_name': 'Kids Coloring Book - Learning Fun Educational Book App!',\n",
      " 'app_rating': nan,\n",
      " 'percent_2_star': nan,\n",
      " 'percent_3_star': nan,\n",
      " 'percent_4_star': nan,\n",
      " 'percent_5_star': nan,\n",
      " 'privacy_policy': 'http://stockpricestore.com/privacy-policy'}\n"
     ]
    }
   ],
   "source": [
    "result = get_app_data(app_soup)\n",
    "pprint.pprint(result)"
   ]
  },
  {
   "cell_type": "code",
   "execution_count": 5,
   "metadata": {},
   "outputs": [],
   "source": [
    "import csv\n",
    "\n",
    "with open('output/first_output.tsv', 'w') as tsvfile:\n",
    "    fieldnames = list(result.keys())\n",
    "    writer = csv.DictWriter(tsvfile, fieldnames=fieldnames, delimiter='\\t')\n",
    "    \n",
    "    writer.writeheader()\n",
    "    writer.writerow(result)\n",
    "\n",
    "    "
   ]
  },
  {
   "cell_type": "code",
   "execution_count": null,
   "metadata": {},
   "outputs": [],
   "source": []
  }
 ],
 "metadata": {
  "kernelspec": {
   "display_name": "Python 3",
   "language": "python",
   "name": "python3"
  },
  "language_info": {
   "codemirror_mode": {
    "name": "ipython",
    "version": 3
   },
   "file_extension": ".py",
   "mimetype": "text/x-python",
   "name": "python",
   "nbconvert_exporter": "python",
   "pygments_lexer": "ipython3",
   "version": "3.7.1"
  },
  "toc": {
   "base_numbering": 1,
   "nav_menu": {},
   "number_sections": true,
   "sideBar": true,
   "skip_h1_title": false,
   "title_cell": "Table of Contents",
   "title_sidebar": "Contents",
   "toc_cell": false,
   "toc_position": {},
   "toc_section_display": true,
   "toc_window_display": false
  },
  "varInspector": {
   "cols": {
    "lenName": 16,
    "lenType": 16,
    "lenVar": 40
   },
   "kernels_config": {
    "python": {
     "delete_cmd_postfix": "",
     "delete_cmd_prefix": "del ",
     "library": "var_list.py",
     "varRefreshCmd": "print(var_dic_list())"
    },
    "r": {
     "delete_cmd_postfix": ") ",
     "delete_cmd_prefix": "rm(",
     "library": "var_list.r",
     "varRefreshCmd": "cat(var_dic_list()) "
    }
   },
   "types_to_exclude": [
    "module",
    "function",
    "builtin_function_or_method",
    "instance",
    "_Feature"
   ],
   "window_display": false
  }
 },
 "nbformat": 4,
 "nbformat_minor": 2
}
